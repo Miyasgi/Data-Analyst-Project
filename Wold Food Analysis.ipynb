{
 "cells": [
  {
   "cell_type": "code",
   "execution_count": 42,
   "metadata": {
    "collapsed": true
   },
   "outputs": [],
   "source": [
    "import numpy as np\n",
    "import pandas as pd\n",
    "import matplotlib.pyplot as plt\n",
    "%matplotlib inline"
   ]
  },
  {
   "cell_type": "code",
   "execution_count": 43,
   "metadata": {
    "collapsed": false
   },
   "outputs": [
    {
     "name": "stdout",
     "output_type": "stream",
     "text": [
      "                 code                                                url  \\\n",
      "0  000000000000012866  http://world-en.openfoodfacts.org/product/0000...   \n",
      "1       0000000024600  http://world-en.openfoodfacts.org/product/0000...   \n",
      "2       0000000036252  http://world-en.openfoodfacts.org/product/0000...   \n",
      "3       0000000039259  http://world-en.openfoodfacts.org/product/0000...   \n",
      "4       0000000039529  http://world-en.openfoodfacts.org/product/0000...   \n",
      "\n",
      "           creator   created_t      created_datetime last_modified_t  \\\n",
      "0  date-limite-app  1447004364  2015-11-08T17:39:24Z      1447004364   \n",
      "1  date-limite-app  1434530704  2015-06-17T08:45:04Z      1434535914   \n",
      "2          tacinte  1422221701  2015-01-25T21:35:01Z      1422221855   \n",
      "3          tacinte  1422221773  2015-01-25T21:36:13Z      1422221926   \n",
      "4         teolemon  1420147051  2015-01-01T21:17:31Z      1439141740   \n",
      "\n",
      "  last_modified_datetime            product_name generic_name quantity  \\\n",
      "0   2015-11-08T17:39:24Z  Poêlée à la sarladaise          NaN      NaN   \n",
      "1   2015-06-17T10:11:54Z           Filet de bœuf          NaN  2.46 kg   \n",
      "2   2015-01-25T21:37:35Z          Lion Peanut x2          NaN      NaN   \n",
      "3   2015-01-25T21:38:46Z                 Twix x2          NaN      NaN   \n",
      "4   2015-08-09T17:35:40Z          Pack de 2 Twix          NaN      NaN   \n",
      "\n",
      "            ...           caffeine_100g taurine_100g ph_100g  \\\n",
      "0           ...                     NaN          NaN     NaN   \n",
      "1           ...                     NaN          NaN     NaN   \n",
      "2           ...                     NaN          NaN     NaN   \n",
      "3           ...                     NaN          NaN     NaN   \n",
      "4           ...                     NaN          NaN     NaN   \n",
      "\n",
      "  fruits_vegetables_nuts_100g collagen_meat_protein_ratio_100g cocoa_100g  \\\n",
      "0                         NaN                              NaN        NaN   \n",
      "1                         NaN                              NaN        NaN   \n",
      "2                         NaN                              NaN        NaN   \n",
      "3                         NaN                              NaN        NaN   \n",
      "4                         NaN                              NaN        NaN   \n",
      "\n",
      "  chlorophyl_100g carbon_footprint_100g nutrition_score_fr_100g  \\\n",
      "0             NaN                   NaN                     NaN   \n",
      "1             NaN                   NaN                     NaN   \n",
      "2             NaN                   NaN                     NaN   \n",
      "3             NaN                   NaN                     NaN   \n",
      "4             NaN                   NaN                     NaN   \n",
      "\n",
      "  nutrition_score_uk_100g  \n",
      "0                     NaN  \n",
      "1                     NaN  \n",
      "2                     NaN  \n",
      "3                     NaN  \n",
      "4                     NaN  \n",
      "\n",
      "[5 rows x 159 columns]\n",
      "<class 'pandas.core.frame.DataFrame'>\n",
      "RangeIndex: 65503 entries, 0 to 65502\n",
      "Columns: 159 entries, code to nutrition_score_uk_100g\n",
      "dtypes: float64(103), object(56)\n",
      "memory usage: 79.5+ MB\n",
      "None\n"
     ]
    },
    {
     "name": "stderr",
     "output_type": "stream",
     "text": [
      "/Users/zhaoxiaoxing/anaconda/envs/py3k/lib/python3.5/site-packages/IPython/core/interactiveshell.py:2723: DtypeWarning: Columns (0,3,5,27,36) have mixed types. Specify dtype option on import or set low_memory=False.\n",
      "  interactivity=interactivity, compiler=compiler, result=result)\n"
     ]
    }
   ],
   "source": [
    "FoodFacts = pd.read_csv(\"FoodFacts.csv\")\n",
    "print(FoodFacts.head())\n",
    "print(FoodFacts.info())"
   ]
  },
  {
   "cell_type": "markdown",
   "metadata": {},
   "source": [
    "# Find sugar consumption ranklist"
   ]
  },
  {
   "cell_type": "code",
   "execution_count": 44,
   "metadata": {
    "collapsed": false
   },
   "outputs": [
    {
     "data": {
      "image/png": "[encoded data removed]",
      "text/plain": [
       "<matplotlib.figure.Figure at 0x172ef6080>"
      ]
     },
     "metadata": {},
     "output_type": "display_data"
    }
   ],
   "source": [
    "# Convert the countries name to lowercase\n",
    "FoodFacts.countries=FoodFacts.countries.str.lower()\n",
    "# Clacute the mean value\n",
    "def mean(num):\n",
    "    return float(sum(num)) / len(num)\n",
    "\n",
    "# Filter not null value \n",
    "world_sugars = FoodFacts[FoodFacts.sugars_100g.notnull()]\n",
    "\n",
    "def get_sugars(country):\n",
    "    return world_sugars[world_sugars.countries == country].sugars_100g.tolist()\n",
    "\n",
    "# Get list of sugars per 100g for some countries\n",
    "fr_sugars = get_sugars('france') + get_sugars('en:fr')\n",
    "za_sugars = get_sugars('south africa')\n",
    "uk_sugars = get_sugars('united kingdom') + get_sugars('en:gb')\n",
    "us_sugars = get_sugars('united states') + get_sugars('en:us') + get_sugars('us')\n",
    "sp_sugars = get_sugars('spain') + get_sugars('españa') + get_sugars('en:es')\n",
    "nd_sugars = get_sugars('netherlands') + get_sugars('holland')\n",
    "au_sugars = get_sugars('australia') + get_sugars('en:au')\n",
    "ca_sugars = get_sugars('canada') + get_sugars('en:cn')\n",
    "de_sugars = get_sugars('germany')\n",
    "#cn_sugars = get_sugars('china')\n",
    "\n",
    "countries = ['FR','ZA','UK','US','ES','ND','AU','CA','DE']\n",
    "sugars_mean_list = [mean(fr_sugars),\n",
    "                    mean(za_sugars),\n",
    "                    mean(uk_sugars),\n",
    "                    mean(us_sugars),\n",
    "                    mean(sp_sugars),\n",
    "                    mean(nd_sugars),\n",
    "                    mean(au_sugars),\n",
    "                    mean(ca_sugars),\n",
    "                    mean(de_sugars)]\n",
    "\n",
    "sugars_mean_list = sorted(sugars_mean_list,reverse=True)\n",
    "y_axis = np.arange(len(countries))\n",
    "\n",
    "plt.bar(y_axis, sugars_mean_list, align='center', alpha=.6)\n",
    "plt.title('Average Total Sugar Content Per 100g')\n",
    "plt.xticks(y_axis, countries)\n",
    "plt.ylabel('Sugar/100g')\n",
    "\n",
    "plt.show()"
   ]
  },
  {
   "cell_type": "markdown",
   "metadata": {},
   "source": [
    "# Find Caffeine consumption"
   ]
  },
  {
   "cell_type": "code",
   "execution_count": 51,
   "metadata": {
    "collapsed": false
   },
   "outputs": [
    {
     "data": {
      "text/plain": [
       "['code',\n",
       " 'url',\n",
       " 'creator',\n",
       " 'created_t',\n",
       " 'created_datetime',\n",
       " 'last_modified_t',\n",
       " 'last_modified_datetime',\n",
       " 'product_name',\n",
       " 'generic_name',\n",
       " 'quantity',\n",
       " 'packaging',\n",
       " 'packaging_tags',\n",
       " 'brands',\n",
       " 'brands_tags',\n",
       " 'categories',\n",
       " 'categories_tags',\n",
       " 'categories_en',\n",
       " 'origins',\n",
       " 'origins_tags',\n",
       " 'manufacturing_places',\n",
       " 'manufacturing_places_tags',\n",
       " 'labels',\n",
       " 'labels_tags',\n",
       " 'labels_en',\n",
       " 'emb_codes',\n",
       " 'emb_codes_tags',\n",
       " 'first_packaging_code_geo',\n",
       " 'cities',\n",
       " 'cities_tags',\n",
       " 'purchase_places',\n",
       " 'stores',\n",
       " 'countries',\n",
       " 'countries_tags',\n",
       " 'countries_en',\n",
       " 'ingredients_text',\n",
       " 'allergens',\n",
       " 'allergens_en',\n",
       " 'traces',\n",
       " 'traces_tags',\n",
       " 'traces_en',\n",
       " 'serving_size',\n",
       " 'no_nutriments',\n",
       " 'additives_n',\n",
       " 'additives',\n",
       " 'additives_tags',\n",
       " 'additives_en',\n",
       " 'ingredients_from_palm_oil_n',\n",
       " 'ingredients_from_palm_oil',\n",
       " 'ingredients_from_palm_oil_tags',\n",
       " 'ingredients_that_may_be_from_palm_oil_n',\n",
       " 'ingredients_that_may_be_from_palm_oil',\n",
       " 'ingredients_that_may_be_from_palm_oil_tags',\n",
       " 'nutrition_grade_uk',\n",
       " 'nutrition_grade_fr',\n",
       " 'pnns_groups_1',\n",
       " 'pnns_groups_2',\n",
       " 'states',\n",
       " 'states_tags',\n",
       " 'states_en',\n",
       " 'main_category',\n",
       " 'main_category_en',\n",
       " 'image_url',\n",
       " 'image_small_url',\n",
       " 'energy_100g',\n",
       " 'energy_from_fat_100g',\n",
       " 'fat_100g',\n",
       " 'saturated_fat_100g',\n",
       " 'butyric_acid_100g',\n",
       " 'caproic_acid_100g',\n",
       " 'caprylic_acid_100g',\n",
       " 'capric_acid_100g',\n",
       " 'lauric_acid_100g',\n",
       " 'myristic_acid_100g',\n",
       " 'palmitic_acid_100g',\n",
       " 'stearic_acid_100g',\n",
       " 'arachidic_acid_100g',\n",
       " 'behenic_acid_100g',\n",
       " 'lignoceric_acid_100g',\n",
       " 'cerotic_acid_100g',\n",
       " 'montanic_acid_100g',\n",
       " 'melissic_acid_100g',\n",
       " 'monounsaturated_fat_100g',\n",
       " 'polyunsaturated_fat_100g',\n",
       " 'omega_3_fat_100g',\n",
       " 'alpha_linolenic_acid_100g',\n",
       " 'eicosapentaenoic_acid_100g',\n",
       " 'docosahexaenoic_acid_100g',\n",
       " 'omega_6_fat_100g',\n",
       " 'linoleic_acid_100g',\n",
       " 'arachidonic_acid_100g',\n",
       " 'gamma_linolenic_acid_100g',\n",
       " 'dihomo_gamma_linolenic_acid_100g',\n",
       " 'omega_9_fat_100g',\n",
       " 'oleic_acid_100g',\n",
       " 'elaidic_acid_100g',\n",
       " 'gondoic_acid_100g',\n",
       " 'mead_acid_100g',\n",
       " 'erucic_acid_100g',\n",
       " 'nervonic_acid_100g',\n",
       " 'trans_fat_100g',\n",
       " 'cholesterol_100g',\n",
       " 'carbohydrates_100g',\n",
       " 'sugars_100g',\n",
       " 'sucrose_100g',\n",
       " 'glucose_100g',\n",
       " 'fructose_100g',\n",
       " 'lactose_100g',\n",
       " 'maltose_100g',\n",
       " 'maltodextrins_100g',\n",
       " 'starch_100g',\n",
       " 'polyols_100g',\n",
       " 'fiber_100g',\n",
       " 'proteins_100g',\n",
       " 'casein_100g',\n",
       " 'serum_proteins_100g',\n",
       " 'nucleotides_100g',\n",
       " 'salt_100g',\n",
       " 'sodium_100g',\n",
       " 'alcohol_100g',\n",
       " 'vitamin_a_100g',\n",
       " 'beta_carotene_100g',\n",
       " 'vitamin_d_100g',\n",
       " 'vitamin_e_100g',\n",
       " 'vitamin_k_100g',\n",
       " 'vitamin_c_100g',\n",
       " 'vitamin_b1_100g',\n",
       " 'vitamin_b2_100g',\n",
       " 'vitamin_pp_100g',\n",
       " 'vitamin_b6_100g',\n",
       " 'vitamin_b9_100g',\n",
       " 'vitamin_b12_100g',\n",
       " 'biotin_100g',\n",
       " 'pantothenic_acid_100g',\n",
       " 'silica_100g',\n",
       " 'bicarbonate_100g',\n",
       " 'potassium_100g',\n",
       " 'chloride_100g',\n",
       " 'calcium_100g',\n",
       " 'phosphorus_100g',\n",
       " 'iron_100g',\n",
       " 'magnesium_100g',\n",
       " 'zinc_100g',\n",
       " 'copper_100g',\n",
       " 'manganese_100g',\n",
       " 'fluoride_100g',\n",
       " 'selenium_100g',\n",
       " 'chromium_100g',\n",
       " 'molybdenum_100g',\n",
       " 'iodine_100g',\n",
       " 'caffeine_100g',\n",
       " 'taurine_100g',\n",
       " 'ph_100g',\n",
       " 'fruits_vegetables_nuts_100g',\n",
       " 'collagen_meat_protein_ratio_100g',\n",
       " 'cocoa_100g',\n",
       " 'chlorophyl_100g',\n",
       " 'carbon_footprint_100g',\n",
       " 'nutrition_score_fr_100g',\n",
       " 'nutrition_score_uk_100g']"
      ]
     },
     "execution_count": 51,
     "metadata": {},
     "output_type": "execute_result"
    }
   ],
   "source": [
    "list(FoodFacts.columns.values)"
   ]
  },
  {
   "cell_type": "code",
   "execution_count": 62,
   "metadata": {
    "collapsed": false
   },
   "outputs": [
    {
     "data": {
      "text/plain": [
       "5        NaN\n",
       "11       4.7\n",
       "14       1.8\n",
       "17       NaN\n",
       "18       NaN\n",
       "26       NaN\n",
       "53       NaN\n",
       "60       NaN\n",
       "75       NaN\n",
       "84       0.0\n",
       "85       NaN\n",
       "97       NaN\n",
       "104      3.1\n",
       "105      0.5\n",
       "106      NaN\n",
       "108      0.5\n",
       "114      NaN\n",
       "119      NaN\n",
       "121      3.1\n",
       "122      NaN\n",
       "143      3.1\n",
       "181      1.8\n",
       "192      NaN\n",
       "195      2.5\n",
       "198      0.5\n",
       "202      NaN\n",
       "204      3.0\n",
       "205      3.0\n",
       "206      3.0\n",
       "208     10.6\n",
       "        ... \n",
       "1679     NaN\n",
       "1699     NaN\n",
       "1749     NaN\n",
       "1758     NaN\n",
       "1770     NaN\n",
       "1775     NaN\n",
       "1776     NaN\n",
       "1777     0.5\n",
       "1790    16.5\n",
       "1806     2.5\n",
       "1823     NaN\n",
       "1824     NaN\n",
       "1894     NaN\n",
       "1895     NaN\n",
       "1898     NaN\n",
       "1904     9.6\n",
       "1906     NaN\n",
       "1913     NaN\n",
       "1916     0.5\n",
       "1922     NaN\n",
       "1931     1.3\n",
       "1947     NaN\n",
       "1967     3.1\n",
       "2047     NaN\n",
       "2070     NaN\n",
       "2075     2.0\n",
       "2110     4.4\n",
       "2113     4.2\n",
       "2135     3.1\n",
       "2179     0.0\n",
       "Name: fiber_100g, dtype: float64"
      ]
     },
     "execution_count": 62,
     "metadata": {},
     "output_type": "execute_result"
    }
   ],
   "source": [
    "FoodFacts['fiber_100g'][FoodFacts['countries']=='united kingdom'].head(200)"
   ]
  },
  {
   "cell_type": "code",
   "execution_count": 45,
   "metadata": {
    "collapsed": false
   },
   "outputs": [
    {
     "ename": "SyntaxError",
     "evalue": "invalid syntax (<ipython-input-45-7797fe1af5cf>, line 32)",
     "output_type": "error",
     "traceback": [
      "\u001b[0;36m  File \u001b[0;32m\"<ipython-input-45-7797fe1af5cf>\"\u001b[0;36m, line \u001b[0;32m32\u001b[0m\n\u001b[0;31m    plt.title('Average Caffeine Content per 100g')\u001b[0m\n\u001b[0m      ^\u001b[0m\n\u001b[0;31mSyntaxError\u001b[0m\u001b[0;31m:\u001b[0m invalid syntax\n"
     ]
    }
   ],
   "source": [
    "# Filter the null value of the FoodFacts\n",
    "world_caffeine = FoodFacts[FoodFacts.caffeine_100g.notnull()]\n",
    "def get_caffeine(country):\n",
    "    return world_caffeine[world_caffeine.countries == country].caffeine_100g.tolist()\n",
    "\n",
    "# Get list of caffeine per 100g for some countries\n",
    "fr_caffeine = get_caffeine('france') + get_caffeine('en:fr')\n",
    "#za_caffeine = get_caffeine('south africa')\n",
    "#uk_caffeine = get_caffeine('united kingdom') + get_caffeine('en:gb')\n",
    "#us_caffeine = get_caffeine('united states') + get_caffeine('en:us') + get_caffeine('us')\n",
    "#sp_caffeine = get_caffeine('spain') + get_caffeine('españa') + get_caffeine('en:es')\n",
    "#cn_caffeine = get_caffeine('china')\n",
    "#nd_caffeine = get_caffeine('netherlands') + get_caffeine('holland')\n",
    "#au_caffeine = get_caffeine('australia') + get_caffeine('en:au')\n",
    "#jp_caffeine = get_caffeine('japan') + get_caffeine('en:jp')\n",
    "#de_caffeine = get_caffeine('germany')\n",
    "\n",
    "countries = ['FR','ZA','UK','USA','ES','CN','ND','AU','JP','DE']\n",
    "caffeine_mean_list = [mean(fr_caffeine),\n",
    "                      #mean(uk_caffeine),\n",
    "                     # mean(us_caffeine),\n",
    "                     # mean(sp_caffeine),\n",
    "                     # mean(cn_caffeine),\n",
    "                     # mean(nd_caffeine),\n",
    "                      # mean(jp_caffeine),\n",
    "                      #mean(de_sodium)]\n",
    "\n",
    "#caffeine_mean_list = sorted(caffeine_mean_list, reverse=True)\n",
    "#y_axis = np.arange(len(countries))\n",
    "\n",
    "plt.bar(y_axis, caffeine_mean_list, align='center', alpha=.5)\n",
    "plt.title('Average Caffeine Content per 100g')\n",
    "plt.xticks(y_axis, countries)\n",
    "plt.ylabel('Caffeine/100g')\n",
    "\n",
    "plt.show()"
   ]
  },
  {
   "cell_type": "code",
   "execution_count": null,
   "metadata": {
    "collapsed": true
   },
   "outputs": [],
   "source": []
  },
  {
   "cell_type": "code",
   "execution_count": null,
   "metadata": {
    "collapsed": true
   },
   "outputs": [],
   "source": []
  },
  {
   "cell_type": "code",
   "execution_count": null,
   "metadata": {
    "collapsed": true
   },
   "outputs": [],
   "source": []
  }
 ],
 "metadata": {
  "anaconda-cloud": {},
  "kernelspec": {
   "display_name": "Python 3",
   "language": "python",
   "name": "python3"
  },
  "language_info": {
   "codemirror_mode": {
    "name": "ipython",
    "version": 3
   },
   "file_extension": ".py",
   "mimetype": "text/x-python",
   "name": "python",
   "nbconvert_exporter": "python",
   "pygments_lexer": "ipython3",
   "version": "3.5.2"
  }
 },
 "nbformat": 4,
 "nbformat_minor": 0
}
