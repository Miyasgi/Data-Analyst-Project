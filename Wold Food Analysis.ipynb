{
 "cells": [
  {
   "cell_type": "code",
   "execution_count": 1,
   "metadata": {
    "collapsed": true
   },
   "outputs": [],
   "source": [
    "import numpy as np\n",
    "import pandas as pd\n",
    "import matplotlib.pyplot as plt\n",
    "%matplotlib inline"
   ]
  },
  {
   "cell_type": "code",
   "execution_count": 6,
   "metadata": {
    "collapsed": false
   },
   "outputs": [
    {
     "name": "stdout",
     "output_type": "stream",
     "text": [
      "                 code                                                url  \\\n",
      "0  000000000000012866  http://world-en.openfoodfacts.org/product/0000...   \n",
      "1       0000000024600  http://world-en.openfoodfacts.org/product/0000...   \n",
      "2       0000000036252  http://world-en.openfoodfacts.org/product/0000...   \n",
      "3       0000000039259  http://world-en.openfoodfacts.org/product/0000...   \n",
      "4       0000000039529  http://world-en.openfoodfacts.org/product/0000...   \n",
      "\n",
      "           creator   created_t      created_datetime last_modified_t  \\\n",
      "0  date-limite-app  1447004364  2015-11-08T17:39:24Z      1447004364   \n",
      "1  date-limite-app  1434530704  2015-06-17T08:45:04Z      1434535914   \n",
      "2          tacinte  1422221701  2015-01-25T21:35:01Z      1422221855   \n",
      "3          tacinte  1422221773  2015-01-25T21:36:13Z      1422221926   \n",
      "4         teolemon  1420147051  2015-01-01T21:17:31Z      1439141740   \n",
      "\n",
      "  last_modified_datetime            product_name generic_name quantity  \\\n",
      "0   2015-11-08T17:39:24Z  Poêlée à la sarladaise          NaN      NaN   \n",
      "1   2015-06-17T10:11:54Z           Filet de bœuf          NaN  2.46 kg   \n",
      "2   2015-01-25T21:37:35Z          Lion Peanut x2          NaN      NaN   \n",
      "3   2015-01-25T21:38:46Z                 Twix x2          NaN      NaN   \n",
      "4   2015-08-09T17:35:40Z          Pack de 2 Twix          NaN      NaN   \n",
      "\n",
      "            ...           caffeine_100g taurine_100g ph_100g  \\\n",
      "0           ...                     NaN          NaN     NaN   \n",
      "1           ...                     NaN          NaN     NaN   \n",
      "2           ...                     NaN          NaN     NaN   \n",
      "3           ...                     NaN          NaN     NaN   \n",
      "4           ...                     NaN          NaN     NaN   \n",
      "\n",
      "  fruits_vegetables_nuts_100g collagen_meat_protein_ratio_100g cocoa_100g  \\\n",
      "0                         NaN                              NaN        NaN   \n",
      "1                         NaN                              NaN        NaN   \n",
      "2                         NaN                              NaN        NaN   \n",
      "3                         NaN                              NaN        NaN   \n",
      "4                         NaN                              NaN        NaN   \n",
      "\n",
      "  chlorophyl_100g carbon_footprint_100g nutrition_score_fr_100g  \\\n",
      "0             NaN                   NaN                     NaN   \n",
      "1             NaN                   NaN                     NaN   \n",
      "2             NaN                   NaN                     NaN   \n",
      "3             NaN                   NaN                     NaN   \n",
      "4             NaN                   NaN                     NaN   \n",
      "\n",
      "  nutrition_score_uk_100g  \n",
      "0                     NaN  \n",
      "1                     NaN  \n",
      "2                     NaN  \n",
      "3                     NaN  \n",
      "4                     NaN  \n",
      "\n",
      "[5 rows x 159 columns]\n",
      "<class 'pandas.core.frame.DataFrame'>\n",
      "RangeIndex: 65503 entries, 0 to 65502\n",
      "Columns: 159 entries, code to nutrition_score_uk_100g\n",
      "dtypes: float64(103), object(56)\n",
      "memory usage: 79.5+ MB\n",
      "None\n"
     ]
    },
    {
     "name": "stderr",
     "output_type": "stream",
     "text": [
      "/Users/zhaoxiaoxing/anaconda/envs/py3k/lib/python3.5/site-packages/IPython/core/interactiveshell.py:2723: DtypeWarning: Columns (0,3,5,27,36) have mixed types. Specify dtype option on import or set low_memory=False.\n",
      "  interactivity=interactivity, compiler=compiler, result=result)\n"
     ]
    }
   ],
   "source": [
    "FoodFacts = pd.read_csv(\"FoodFacts.csv\")\n",
    "print(FoodFacts.head())\n",
    "print(FoodFacts.info())"
   ]
  },
  {
   "cell_type": "markdown",
   "metadata": {},
   "source": [
    "# Find sugar consumption ranklist"
   ]
  },
  {
   "cell_type": "code",
   "execution_count": 21,
   "metadata": {
    "collapsed": false
   },
   "outputs": [
    {
     "data": {
      "image/png": "[encoded data removed]",
      "text/plain": [
       "<matplotlib.figure.Figure at 0x1423796d8>"
      ]
     },
     "metadata": {},
     "output_type": "display_data"
    }
   ],
   "source": [
    "# Convert the countries name to lowercase\n",
    "FoodFacts.countries=FoodFacts.countries.str.lower()\n",
    "# Clacute the mean value\n",
    "def mean(num):\n",
    "    return float(sum(num)) / len(num)\n",
    "\n",
    "# Filter not null value \n",
    "world_sugars = FoodFacts[FoodFacts.sugars_100g.notnull()]\n",
    "\n",
    "def get_sugars(country):\n",
    "    return world_sugars[world_sugars.countries == country].sugars_100g.tolist()\n",
    "\n",
    "# Get list of sugars per 100g for some countries\n",
    "fr_sugars = get_sugars('france') + get_sugars('en:fr')\n",
    "za_sugars = get_sugars('south africa')\n",
    "uk_sugars = get_sugars('united kingdom') + get_sugars('en:gb')\n",
    "us_sugars = get_sugars('united states') + get_sugars('en:us') + get_sugars('us')\n",
    "sp_sugars = get_sugars('spain') + get_sugars('españa') + get_sugars('en:es')\n",
    "nd_sugars = get_sugars('netherlands') + get_sugars('holland')\n",
    "au_sugars = get_sugars('australia') + get_sugars('en:au')\n",
    "ca_sugars = get_sugars('canada') + get_sugars('en:cn')\n",
    "de_sugars = get_sugars('germany')\n",
    "\n",
    "countries = ['FR','ZA','UK','US','ES','ND','AU','CA','DE']\n",
    "sugars_mean_list = [mean(fr_sugars),\n",
    "                    mean(za_sugars),\n",
    "                    mean(uk_sugars),\n",
    "                    mean(us_sugars),\n",
    "                    mean(sp_sugars),\n",
    "                    mean(nd_sugars),\n",
    "                    mean(au_sugars),\n",
    "                    mean(ca_sugars),\n",
    "                    mean(de_sugars)]\n",
    "\n",
    "sugars_mean_list = sorted(sugars_mean_list,reverse=True)\n",
    "y_axis = np.arange(len(countries))\n",
    "\n",
    "plt.bar(y_axis, sugars_mean_list, align='center', alpha=.6)\n",
    "plt.title('Average Total Sugar Content Per 100g')\n",
    "plt.xticks(y_axis, countries)\n",
    "plt.ylabel('Sugar/100g')\n",
    "\n",
    "plt.show()"
   ]
  },
  {
   "cell_type": "markdown",
   "metadata": {},
   "source": [
    "# Find Caffine consumption"
   ]
  },
  {
   "cell_type": "code",
   "execution_count": null,
   "metadata": {
    "collapsed": true
   },
   "outputs": [],
   "source": []
  }
 ],
 "metadata": {
  "anaconda-cloud": {},
  "kernelspec": {
   "display_name": "Python 3",
   "language": "python",
   "name": "python3"
  },
  "language_info": {
   "codemirror_mode": {
    "name": "ipython",
    "version": 3
   },
   "file_extension": ".py",
   "mimetype": "text/x-python",
   "name": "python",
   "nbconvert_exporter": "python",
   "pygments_lexer": "ipython3",
   "version": "3.5.2"
  }
 },
 "nbformat": 4,
 "nbformat_minor": 0
}
